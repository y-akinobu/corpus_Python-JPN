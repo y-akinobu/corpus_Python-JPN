{
  "nbformat": 4,
  "nbformat_minor": 2,
  "metadata": {
    "orig_nbformat": 4,
    "language_info": {
      "name": "python",
      "version": "3.9.4",
      "mimetype": "text/x-python",
      "codemirror_mode": {
        "name": "ipython",
        "version": 3
      },
      "pygments_lexer": "ipython3",
      "nbconvert_exporter": "python",
      "file_extension": ".py"
    },
    "kernelspec": {
      "name": "python3",
      "display_name": "Python 3.9.4 64-bit ('3.9.4': pyenv)"
    },
    "interpreter": {
      "hash": "4db84bcf33790994b1302b7663c953db7fd786671b6248520f8012b22700317d"
    },
    "colab": {
      "name": "diff_judge.ipynb",
      "provenance": []
    }
  },
  "cells": [
    {
      "cell_type": "code",
      "execution_count": 1,
      "source": [
        "import pandas as pd\n",
        "import csv"
      ],
      "outputs": [],
      "metadata": {
        "id": "McpEebsBEe9m"
      }
    },
    {
      "cell_type": "code",
      "execution_count": 2,
      "source": [
        "!git clone https://github.com/y-akinobu/corpus_Python-JPN.git"
      ],
      "outputs": [
        {
          "output_type": "stream",
          "name": "stdout",
          "text": [
            "Cloning into 'corpus_Python-JPN'...\n",
            "remote: Enumerating objects: 288, done.\u001b[K\n",
            "remote: Counting objects: 100% (79/79), done.\u001b[K\n",
            "remote: Compressing objects: 100% (57/57), done.\u001b[K\n",
            "remote: Total 288 (delta 33), reused 63 (delta 18), pack-reused 209\u001b[K\n",
            "Receiving objects: 100% (288/288), 208.64 MiB | 29.57 MiB/s, done.\n",
            "Resolving deltas: 100% (115/115), done.\n",
            "Checking out files: 100% (95/95), done.\n"
          ]
        }
      ],
      "metadata": {
        "colab": {
          "base_uri": "https://localhost:8080/"
        },
        "id": "QAFk2U4XEq8Q",
        "outputId": "6bb50abb-470b-4f46-c2de-d03b0ce4c630"
      }
    },
    {
      "cell_type": "code",
      "execution_count": 3,
      "source": [
        "df = pd.read_csv('/content/corpus_Python-JPN/forPRO/result_DS_B.tsv', sep='\\t', names=('JPN', 'Py', 'Py_predict'))\n",
        "df.head()"
      ],
      "outputs": [
        {
          "output_type": "execute_result",
          "data": {
            "text/html": [
              "<div>\n",
              "<style scoped>\n",
              "    .dataframe tbody tr th:only-of-type {\n",
              "        vertical-align: middle;\n",
              "    }\n",
              "\n",
              "    .dataframe tbody tr th {\n",
              "        vertical-align: top;\n",
              "    }\n",
              "\n",
              "    .dataframe thead th {\n",
              "        text-align: right;\n",
              "    }\n",
              "</style>\n",
              "<table border=\"1\" class=\"dataframe\">\n",
              "  <thead>\n",
              "    <tr style=\"text-align: right;\">\n",
              "      <th></th>\n",
              "      <th>JPN</th>\n",
              "      <th>Py</th>\n",
              "      <th>Py_predict</th>\n",
              "    </tr>\n",
              "  </thead>\n",
              "  <tbody>\n",
              "    <tr>\n",
              "      <th>0</th>\n",
              "      <td>&lt;A&gt; 内のカラム &lt;B&gt; に重複はあるのかを調べる</td>\n",
              "      <td>&lt;A&gt; . duplicated ( subset = &lt;B&gt; )</td>\n",
              "      <td>&lt;D&gt; &lt;A&gt; . duplicated ( subset = &lt;B&gt; )</td>\n",
              "    </tr>\n",
              "    <tr>\n",
              "      <th>1</th>\n",
              "      <td>データフレーム &lt;A&gt; 内で重複する行の合計を表示する</td>\n",
              "      <td>&lt;A&gt; . duplicated ( ) . sum ( )</td>\n",
              "      <td>&lt;A&gt; . duplicated ( ) . sum ( )</td>\n",
              "    </tr>\n",
              "    <tr>\n",
              "      <th>2</th>\n",
              "      <td>同じグラフ内で表データ &lt;A&gt; の &lt;B&gt; と表データ &lt;A&gt; の &lt;C&gt; と &lt;A&gt; の表...</td>\n",
              "      <td>plt . boxplot ( [ &lt;A&gt; [ &lt;B&gt; ] , &lt;A&gt; [ &lt;C&gt; ] , ...</td>\n",
              "      <td>plt . boxplot ( [ &lt;A&gt; [ &lt;B&gt; ] , &lt;A&gt; [ &lt;C&gt; ] , ...</td>\n",
              "    </tr>\n",
              "    <tr>\n",
              "      <th>3</th>\n",
              "      <td>データフレーム &lt;A&gt; の NaN を &lt;B&gt; とする</td>\n",
              "      <td>&lt;A&gt; . fillna ( &lt;B&gt; )</td>\n",
              "      <td>&lt;A&gt; . fillna ( &lt;B&gt; )</td>\n",
              "    </tr>\n",
              "    <tr>\n",
              "      <th>4</th>\n",
              "      <td>データフレーム &lt;B&gt; をインデックスに沿ってソートし、 &lt;A&gt; に代入する</td>\n",
              "      <td>&lt;A&gt; = &lt;B&gt; . sort_index ( )</td>\n",
              "      <td>&lt;A&gt; = &lt;B&gt; . sort_index ( )</td>\n",
              "    </tr>\n",
              "  </tbody>\n",
              "</table>\n",
              "</div>"
            ],
            "text/plain": [
              "                                                 JPN  ...                                         Py_predict\n",
              "0                         <A> 内のカラム <B> に重複はあるのかを調べる  ...              <D> <A> . duplicated ( subset = <B> )\n",
              "1                        データフレーム <A> 内で重複する行の合計を表示する  ...                     <A> . duplicated ( ) . sum ( )\n",
              "2  同じグラフ内で表データ <A> の <B> と表データ <A> の <C> と <A> の表...  ...  plt . boxplot ( [ <A> [ <B> ] , <A> [ <C> ] , ...\n",
              "3                        データフレーム <A> の NaN を <B> とする  ...                               <A> . fillna ( <B> )\n",
              "4             データフレーム <B> をインデックスに沿ってソートし、 <A> に代入する  ...                         <A> = <B> . sort_index ( )\n",
              "\n",
              "[5 rows x 3 columns]"
            ]
          },
          "metadata": {},
          "execution_count": 3
        }
      ],
      "metadata": {
        "colab": {
          "base_uri": "https://localhost:8080/",
          "height": 204
        },
        "id": "3eHPRdqsFKXJ",
        "outputId": "81d090fb-1ee4-498c-df38-96412f1e332d"
      }
    },
    {
      "cell_type": "code",
      "execution_count": 4,
      "source": [
        "df = df.sample(n=150)"
      ],
      "outputs": [],
      "metadata": {
        "id": "n1Pp2c3pG0o3"
      }
    },
    {
      "cell_type": "code",
      "execution_count": 5,
      "source": [
        "cnt = 0\n",
        "correct = 0\n",
        "\n",
        "df_error = pd.DataFrame(columns=['JPN', 'Py', 'Py_predict'])\n",
        "\n",
        "for index, row in df.iterrows():\n",
        "  py = row['Py'].strip()\n",
        "  pred = row['Py_predict'].strip()\n",
        "\n",
        "  py = py.strip()\n",
        "  pred = pred.strip()\n",
        "\n",
        "  cnt += 1\n",
        "\n",
        "  if py == pred:\n",
        "    correct += 1\n",
        "  else:\n",
        "    df_error = df_error.append({'JPN': row['JPN'], 'Py': py, 'Py_predict': pred}, ignore_index=True)\n",
        "\n",
        "print('Finished')\n",
        "print(f'percentage of correct answers {correct}/{cnt} ({correct / cnt * 100}%)' )\n"
      ],
      "outputs": [
        {
          "output_type": "stream",
          "name": "stdout",
          "text": [
            "Finished\n",
            "percentage of correct answers 67/150 (44.666666666666664%)\n"
          ]
        }
      ],
      "metadata": {
        "colab": {
          "base_uri": "https://localhost:8080/"
        },
        "id": "8_7VSp7FEe9s",
        "outputId": "0bd8af18-243d-492b-e40e-083769883f6d"
      }
    },
    {
      "cell_type": "code",
      "execution_count": 6,
      "source": [
        "df_error.head()"
      ],
      "outputs": [
        {
          "output_type": "execute_result",
          "data": {
            "text/html": [
              "<div>\n",
              "<style scoped>\n",
              "    .dataframe tbody tr th:only-of-type {\n",
              "        vertical-align: middle;\n",
              "    }\n",
              "\n",
              "    .dataframe tbody tr th {\n",
              "        vertical-align: top;\n",
              "    }\n",
              "\n",
              "    .dataframe thead th {\n",
              "        text-align: right;\n",
              "    }\n",
              "</style>\n",
              "<table border=\"1\" class=\"dataframe\">\n",
              "  <thead>\n",
              "    <tr style=\"text-align: right;\">\n",
              "      <th></th>\n",
              "      <th>JPN</th>\n",
              "      <th>Py</th>\n",
              "      <th>Py_predict</th>\n",
              "    </tr>\n",
              "  </thead>\n",
              "  <tbody>\n",
              "    <tr>\n",
              "      <th>0</th>\n",
              "      <td>&lt;A&gt; までの列を表示させる</td>\n",
              "      <td>pd . set_option ( 'display.max_columns' , &lt;A&gt; )</td>\n",
              "      <td>sns . pairplot ( &lt;A&gt; )</td>\n",
              "    </tr>\n",
              "    <tr>\n",
              "      <th>1</th>\n",
              "      <td>左側のデータのインデックスと右側のデータの &lt;D&gt; 表属性をキーとして、 &lt;B&gt; と &lt;C&gt;...</td>\n",
              "      <td>&lt;A&gt; = pd . merge ( &lt;B&gt; , &lt;C&gt; , left_index = Tr...</td>\n",
              "      <td>sns = pd . merge ( &lt;A&gt; , &lt;B&gt; , &lt;C&gt; , left_inde...</td>\n",
              "    </tr>\n",
              "    <tr>\n",
              "      <th>2</th>\n",
              "      <td>&lt;A&gt; の &lt;B&gt; 列の一意の値を表示する</td>\n",
              "      <td>&lt;A&gt; [ &lt;B&gt; ] . unique ( )</td>\n",
              "      <td>&lt;B&gt; &lt;A&gt; [ &lt;B&gt; ] . unique ( )</td>\n",
              "    </tr>\n",
              "    <tr>\n",
              "      <th>3</th>\n",
              "      <td>表データ &lt;A&gt; を表属性 &lt;B&gt; の値を元にソート</td>\n",
              "      <td>&lt;A&gt; . sort_values ( &lt;B&gt; )</td>\n",
              "      <td>df . sort_values ( &lt;A&gt; [ &lt;B&gt; ] , ascending = F...</td>\n",
              "    </tr>\n",
              "    <tr>\n",
              "      <th>4</th>\n",
              "      <td>&lt;A&gt; の &lt;B&gt; をグループ化して、値ごとのデータ数を求める</td>\n",
              "      <td>&lt;A&gt; . groupby ( &lt;B&gt; ) . size ( )</td>\n",
              "      <td>df1 . groupby ( &lt;A&gt; [ &lt;B&gt; ] ) . size ( )</td>\n",
              "    </tr>\n",
              "  </tbody>\n",
              "</table>\n",
              "</div>"
            ],
            "text/plain": [
              "                                                 JPN  ...                                         Py_predict\n",
              "0                                     <A> までの列を表示させる  ...                             sns . pairplot ( <A> )\n",
              "1  左側のデータのインデックスと右側のデータの <D> 表属性をキーとして、 <B> と <C>...  ...  sns = pd . merge ( <A> , <B> , <C> , left_inde...\n",
              "2                              <A> の <B> 列の一意の値を表示する  ...                       <B> <A> [ <B> ] . unique ( )\n",
              "3                         表データ <A> を表属性 <B> の値を元にソート  ...  df . sort_values ( <A> [ <B> ] , ascending = F...\n",
              "4                    <A> の <B> をグループ化して、値ごとのデータ数を求める  ...           df1 . groupby ( <A> [ <B> ] ) . size ( )\n",
              "\n",
              "[5 rows x 3 columns]"
            ]
          },
          "metadata": {},
          "execution_count": 6
        }
      ],
      "metadata": {
        "colab": {
          "base_uri": "https://localhost:8080/",
          "height": 204
        },
        "id": "IN3O0bOrEe9u",
        "outputId": "f475e8ee-90d4-4aeb-eefe-5ec683f898e4"
      }
    },
    {
      "cell_type": "code",
      "execution_count": 7,
      "source": [
        "df_error = df_error.assign(judge=1)"
      ],
      "outputs": [],
      "metadata": {
        "id": "QNRzWbpVHzAA"
      }
    },
    {
      "cell_type": "code",
      "execution_count": 8,
      "source": [
        "df_error.to_csv('result_DS_B_error.tsv', index=False, header=False, sep='\\t', quoting=csv.QUOTE_NONE, doublequote=False, escapechar='\\n')"
      ],
      "outputs": [],
      "metadata": {
        "id": "Wbn1M4wEEe9u"
      }
    },
    {
      "cell_type": "code",
      "execution_count": 9,
      "source": [
        "df = pd.read_csv('/content/result_AOJ_B_error_judged.tsv', sep='\\t', names=('JPN', 'Py', 'Py_predict', 'judged'), header=None)[1:]\n",
        "(150-len(df)+df[ df['judged'] == 1.0 ]['judged'].count() )/150"
      ],
      "outputs": [
        {
          "output_type": "execute_result",
          "data": {
            "text/plain": [
              "0.4866666666666667"
            ]
          },
          "metadata": {},
          "execution_count": 9
        }
      ],
      "metadata": {
        "colab": {
          "base_uri": "https://localhost:8080/"
        },
        "id": "fNXr-5GikxpU",
        "outputId": "22863eee-f0bf-456c-94ac-edec16373b4e"
      }
    },
    {
      "cell_type": "code",
      "execution_count": 10,
      "source": [
        "df = pd.read_csv('/content/result_AOJ_T_error_judged.tsv', sep='\\t', names=('JPN', 'Py', 'Py_predict', 'judged'), header=None)[1:]\n",
        "(150-len(df)+df[ df['judged'] == '1']['judged'].count() )/150"
      ],
      "outputs": [
        {
          "output_type": "execute_result",
          "data": {
            "text/plain": [
              "0.10666666666666667"
            ]
          },
          "metadata": {},
          "execution_count": 10
        }
      ],
      "metadata": {
        "colab": {
          "base_uri": "https://localhost:8080/"
        },
        "id": "xWr1eI6imz3N",
        "outputId": "effa3050-f87e-49a2-c347-15a8c3a248d2"
      }
    },
    {
      "cell_type": "code",
      "execution_count": 11,
      "source": [
        "(150-len(df)+df[ df['judged'] == '1']['judged'].count()+df[ df['judged'] == '*']['judged'].count() )/150"
      ],
      "outputs": [
        {
          "output_type": "execute_result",
          "data": {
            "text/plain": [
              "0.19333333333333333"
            ]
          },
          "metadata": {},
          "execution_count": 11
        }
      ],
      "metadata": {
        "colab": {
          "base_uri": "https://localhost:8080/"
        },
        "id": "4rCVdrfa0wId",
        "outputId": "97e769e8-ffdd-410a-fc61-ae5ca3623818"
      }
    },
    {
      "cell_type": "code",
      "execution_count": 12,
      "source": [
        "df = pd.read_csv('/content/result_DS_B_error_judged.tsv', sep='\\t', names=('JPN', 'Py', 'Py_predict', 'judged'), header=None)[1:]\n",
        "(150-len(df)+df[ df['judged'] == 1.0 ]['judged'].count() )/150"
      ],
      "outputs": [
        {
          "output_type": "execute_result",
          "data": {
            "text/plain": [
              "0.5866666666666667"
            ]
          },
          "metadata": {},
          "execution_count": 12
        }
      ],
      "metadata": {
        "colab": {
          "base_uri": "https://localhost:8080/"
        },
        "id": "gu9EDkLZoM1S",
        "outputId": "f50adf56-a430-4aad-bd67-df7c37e57c18"
      }
    }
  ]
}